{
 "cells": [
  {
   "cell_type": "markdown",
   "metadata": {},
   "source": [
    "Crunching data with Pandas\n",
    "====================\n",
    "\n",
    "There are many different ways to pass data to DataFrames:\n",
    "\n",
    "Memory\n",
    "---------------------"
   ]
  },
  {
   "cell_type": "code",
   "execution_count": 1,
   "metadata": {
    "collapsed": false
   },
   "outputs": [
    {
     "name": "stdout",
     "output_type": "stream",
     "text": [
      "    name\n",
      "0  Alice\n",
      "1    Bob\n",
      "2  Carol\n",
      "3   Dave\n"
     ]
    }
   ],
   "source": [
    "# list\n",
    "import pandas as pd\n",
    "l = [\"Alice\", \"Bob\", \"Carol\",\"Dave\"]\n",
    "df = pd.DataFrame(l, columns=['name'])\n",
    "print df"
   ]
  },
  {
   "cell_type": "code",
   "execution_count": 2,
   "metadata": {
    "collapsed": false
   },
   "outputs": [
    {
     "name": "stdout",
     "output_type": "stream",
     "text": [
      "  color disposition size\n",
      "0  grey        loud  fat\n",
      "                0\n",
      "color        grey\n",
      "disposition  loud\n",
      "size          fat\n"
     ]
    }
   ],
   "source": [
    "# dictionary\n",
    "myCat = {'size':'fat', 'color':'grey', 'disposition':'loud'}\n",
    "df = pd.DataFrame(myCat, index={0})\n",
    "print df\n",
    "print df.transpose()"
   ]
  },
  {
   "cell_type": "markdown",
   "metadata": {},
   "source": [
    "Files\n",
    "---------------------"
   ]
  },
  {
   "cell_type": "code",
   "execution_count": 3,
   "metadata": {
    "collapsed": false
   },
   "outputs": [
    {
     "name": "stdout",
     "output_type": "stream",
     "text": [
      "    0                    1  2  3\n",
      "0  aa       Current_events  1  1\n",
      "1  aa  Enqlizxsh_-_English  4  4\n",
      "2  aa            Main_Page  4  4\n",
      "3  aa              Qembo_1  1  1\n",
      "4  aa    Special:Imagelist  1  1\n"
     ]
    }
   ],
   "source": [
    "# csv\n",
    "import csv\n",
    "df = pd.read_csv(\"pagecounts-20071209-200000.gz\", sep=\" \", compression='gzip', header=None, quoting=csv.QUOTE_NONE)\n",
    "print df.head() #show first 5 rows"
   ]
  },
  {
   "cell_type": "code",
   "execution_count": 4,
   "metadata": {
    "collapsed": false
   },
   "outputs": [
    {
     "name": "stdout",
     "output_type": "stream",
     "text": [
      "  site                 page  count  size\n",
      "0   aa       Current_events      1     1\n",
      "1   aa  Enqlizxsh_-_English      4     4\n",
      "2   aa            Main_Page      4     4\n",
      "3   aa              Qembo_1      1     1\n",
      "4   aa    Special:Imagelist      1     1\n"
     ]
    }
   ],
   "source": [
    "# add column headers\n",
    "df.columns = ['site','page','count','size']\n",
    "print df.head()"
   ]
  },
  {
   "cell_type": "code",
   "execution_count": 5,
   "metadata": {
    "collapsed": false
   },
   "outputs": [
    {
     "name": "stdout",
     "output_type": "stream",
     "text": [
      "CPU times: user 1.77 ms, sys: 1.3 ms, total: 3.07 ms\n",
      "Wall time: 1.95 ms\n",
      "Dataframe contains 1000 records\n"
     ]
    }
   ],
   "source": [
    "# yes, but is it fast?\n",
    "%time df = pd.read_csv(\"pagecounts-20071209-200000.gz\", sep=\" \", compression='gzip', header=None)#, quoting=csv.QUOTE_NONE)\n",
    "print \"Dataframe contains\",len(df), \"records\""
   ]
  },
  {
   "cell_type": "markdown",
   "metadata": {},
   "source": [
    "*myCat.json*\n",
    "[\n",
    "  {\n",
    "    \"color\": \"grey\",\n",
    "    \"disposition\": \"loud\",\n",
    "    \"size\": \"fat\"\n",
    "  }\n",
    "]"
   ]
  },
  {
   "cell_type": "code",
   "execution_count": 7,
   "metadata": {
    "collapsed": false
   },
   "outputs": [
    {
     "name": "stdout",
     "output_type": "stream",
     "text": [
      "  color disposition size\n",
      "0  grey        loud  fat\n",
      "                0\n",
      "color        grey\n",
      "disposition  loud\n",
      "size          fat\n"
     ]
    }
   ],
   "source": [
    "# json\n",
    "df = pd.read_json(\"myCat.json\")\n",
    "print df\n",
    "print df.transpose()"
   ]
  },
  {
   "cell_type": "markdown",
   "metadata": {},
   "source": [
    "<3 pickles\n",
    "---------------------"
   ]
  },
  {
   "cell_type": "code",
   "execution_count": 8,
   "metadata": {
    "collapsed": false
   },
   "outputs": [
    {
     "name": "stdout",
     "output_type": "stream",
     "text": [
      "  color disposition size\n",
      "0  grey        loud  fat\n"
     ]
    }
   ],
   "source": [
    "df.to_pickle(\"myCat.pickle\")\n",
    "df = pd.read_pickle(\"myCat.pickle\")\n",
    "print df"
   ]
  },
  {
   "cell_type": "code",
   "execution_count": 9,
   "metadata": {
    "collapsed": false
   },
   "outputs": [
    {
     "name": "stdout",
     "output_type": "stream",
     "text": [
      "CPU times: user 1.45 ms, sys: 426 µs, total: 1.87 ms\n",
      "Wall time: 3.76 ms\n",
      "CPU times: user 1.56 ms, sys: 58 µs, total: 1.62 ms\n",
      "Wall time: 1.62 ms\n"
     ]
    }
   ],
   "source": [
    "# is it fast?\n",
    "import csv\n",
    "df = pd.read_csv(\"pagecounts-20071209-200000.gz\", sep=\" \", compression='gzip', header=None, quoting=csv.QUOTE_NONE)\n",
    "%time df.to_pickle(\"pagecounts.pickle\")\n",
    "%time df = pd.read_pickle(\"pagecounts.pickle\")"
   ]
  },
  {
   "cell_type": "code",
   "execution_count": 10,
   "metadata": {
    "collapsed": false
   },
   "outputs": [],
   "source": [
    "# Databases\n",
    "\n",
    "# get a connection\n",
    "import pymysql as db\n",
    "con = db.connect(host=\"mysql.littlebabyprojects.com\",\n",
    "                 user=\"hackhour\",\n",
    "                 password=\"python<3\",\n",
    "                 database=\"hackhour\",\n",
    "                 charset='utf8')"
   ]
  },
  {
   "cell_type": "code",
   "execution_count": 11,
   "metadata": {
    "collapsed": false
   },
   "outputs": [],
   "source": [
    "import pandas.io.sql as psql\n",
    "cursor = con.cursor()\n",
    "df = psql.read_sql(\"select * from data\", con)"
   ]
  },
  {
   "cell_type": "code",
   "execution_count": 12,
   "metadata": {
    "collapsed": false
   },
   "outputs": [
    {
     "data": {
      "text/html": [
       "<div>\n",
       "<table border=\"1\" class=\"dataframe\">\n",
       "  <thead>\n",
       "    <tr style=\"text-align: right;\">\n",
       "      <th></th>\n",
       "      <th>index</th>\n",
       "      <th>0</th>\n",
       "      <th>1</th>\n",
       "      <th>2</th>\n",
       "      <th>3</th>\n",
       "    </tr>\n",
       "  </thead>\n",
       "  <tbody>\n",
       "    <tr>\n",
       "      <th>0</th>\n",
       "      <td>0</td>\n",
       "      <td>aa</td>\n",
       "      <td>Current_events</td>\n",
       "      <td>1</td>\n",
       "      <td>1</td>\n",
       "    </tr>\n",
       "    <tr>\n",
       "      <th>1</th>\n",
       "      <td>1</td>\n",
       "      <td>aa</td>\n",
       "      <td>Enqlizxsh_-_English</td>\n",
       "      <td>4</td>\n",
       "      <td>4</td>\n",
       "    </tr>\n",
       "    <tr>\n",
       "      <th>2</th>\n",
       "      <td>2</td>\n",
       "      <td>aa</td>\n",
       "      <td>Main_Page</td>\n",
       "      <td>4</td>\n",
       "      <td>4</td>\n",
       "    </tr>\n",
       "    <tr>\n",
       "      <th>3</th>\n",
       "      <td>3</td>\n",
       "      <td>aa</td>\n",
       "      <td>Qembo_1</td>\n",
       "      <td>1</td>\n",
       "      <td>1</td>\n",
       "    </tr>\n",
       "    <tr>\n",
       "      <th>4</th>\n",
       "      <td>4</td>\n",
       "      <td>aa</td>\n",
       "      <td>Special:Imagelist</td>\n",
       "      <td>1</td>\n",
       "      <td>1</td>\n",
       "    </tr>\n",
       "  </tbody>\n",
       "</table>\n",
       "</div>"
      ],
      "text/plain": [
       "   index   0                    1  2  3\n",
       "0      0  aa       Current_events  1  1\n",
       "1      1  aa  Enqlizxsh_-_English  4  4\n",
       "2      2  aa            Main_Page  4  4\n",
       "3      3  aa              Qembo_1  1  1\n",
       "4      4  aa    Special:Imagelist  1  1"
      ]
     },
     "execution_count": 12,
     "metadata": {},
     "output_type": "execute_result"
    }
   ],
   "source": [
    "df.head()"
   ]
  },
  {
   "cell_type": "markdown",
   "metadata": {},
   "source": [
    "Manipulating DataFrames\n",
    "===================="
   ]
  },
  {
   "cell_type": "code",
   "execution_count": 13,
   "metadata": {
    "collapsed": false
   },
   "outputs": [
    {
     "data": {
      "text/html": [
       "<div>\n",
       "<table border=\"1\" class=\"dataframe\">\n",
       "  <thead>\n",
       "    <tr style=\"text-align: right;\">\n",
       "      <th></th>\n",
       "      <th>0</th>\n",
       "      <th>1</th>\n",
       "      <th>2</th>\n",
       "      <th>3</th>\n",
       "    </tr>\n",
       "  </thead>\n",
       "  <tbody>\n",
       "    <tr>\n",
       "      <th>0</th>\n",
       "      <td>aa</td>\n",
       "      <td>Current_events</td>\n",
       "      <td>1</td>\n",
       "      <td>1</td>\n",
       "    </tr>\n",
       "    <tr>\n",
       "      <th>1</th>\n",
       "      <td>aa</td>\n",
       "      <td>Enqlizxsh_-_English</td>\n",
       "      <td>4</td>\n",
       "      <td>4</td>\n",
       "    </tr>\n",
       "    <tr>\n",
       "      <th>2</th>\n",
       "      <td>aa</td>\n",
       "      <td>Main_Page</td>\n",
       "      <td>4</td>\n",
       "      <td>4</td>\n",
       "    </tr>\n",
       "    <tr>\n",
       "      <th>3</th>\n",
       "      <td>aa</td>\n",
       "      <td>Qembo_1</td>\n",
       "      <td>1</td>\n",
       "      <td>1</td>\n",
       "    </tr>\n",
       "    <tr>\n",
       "      <th>4</th>\n",
       "      <td>aa</td>\n",
       "      <td>Special:Imagelist</td>\n",
       "      <td>1</td>\n",
       "      <td>1</td>\n",
       "    </tr>\n",
       "  </tbody>\n",
       "</table>\n",
       "</div>"
      ],
      "text/plain": [
       "    0                    1  2  3\n",
       "0  aa       Current_events  1  1\n",
       "1  aa  Enqlizxsh_-_English  4  4\n",
       "2  aa            Main_Page  4  4\n",
       "3  aa              Qembo_1  1  1\n",
       "4  aa    Special:Imagelist  1  1"
      ]
     },
     "execution_count": 13,
     "metadata": {},
     "output_type": "execute_result"
    }
   ],
   "source": [
    "# deleting columns\n",
    "del df['index']\n",
    "df.head()"
   ]
  },
  {
   "cell_type": "code",
   "execution_count": 14,
   "metadata": {
    "collapsed": false
   },
   "outputs": [
    {
     "data": {
      "text/html": [
       "<div>\n",
       "<table border=\"1\" class=\"dataframe\">\n",
       "  <thead>\n",
       "    <tr style=\"text-align: right;\">\n",
       "      <th></th>\n",
       "      <th>0</th>\n",
       "      <th>1</th>\n",
       "      <th>2</th>\n",
       "      <th>3</th>\n",
       "      <th>2+3</th>\n",
       "    </tr>\n",
       "  </thead>\n",
       "  <tbody>\n",
       "    <tr>\n",
       "      <th>0</th>\n",
       "      <td>aa</td>\n",
       "      <td>Current_events</td>\n",
       "      <td>1</td>\n",
       "      <td>1</td>\n",
       "      <td>2</td>\n",
       "    </tr>\n",
       "    <tr>\n",
       "      <th>1</th>\n",
       "      <td>aa</td>\n",
       "      <td>Enqlizxsh_-_English</td>\n",
       "      <td>4</td>\n",
       "      <td>4</td>\n",
       "      <td>8</td>\n",
       "    </tr>\n",
       "    <tr>\n",
       "      <th>2</th>\n",
       "      <td>aa</td>\n",
       "      <td>Main_Page</td>\n",
       "      <td>4</td>\n",
       "      <td>4</td>\n",
       "      <td>8</td>\n",
       "    </tr>\n",
       "    <tr>\n",
       "      <th>3</th>\n",
       "      <td>aa</td>\n",
       "      <td>Qembo_1</td>\n",
       "      <td>1</td>\n",
       "      <td>1</td>\n",
       "      <td>2</td>\n",
       "    </tr>\n",
       "    <tr>\n",
       "      <th>4</th>\n",
       "      <td>aa</td>\n",
       "      <td>Special:Imagelist</td>\n",
       "      <td>1</td>\n",
       "      <td>1</td>\n",
       "      <td>2</td>\n",
       "    </tr>\n",
       "  </tbody>\n",
       "</table>\n",
       "</div>"
      ],
      "text/plain": [
       "    0                    1  2  3  2+3\n",
       "0  aa       Current_events  1  1    2\n",
       "1  aa  Enqlizxsh_-_English  4  4    8\n",
       "2  aa            Main_Page  4  4    8\n",
       "3  aa              Qembo_1  1  1    2\n",
       "4  aa    Special:Imagelist  1  1    2"
      ]
     },
     "execution_count": 14,
     "metadata": {},
     "output_type": "execute_result"
    }
   ],
   "source": [
    "# adding columns\n",
    "df['2+3'] = df['2'] + df['3']\n",
    "df.head()"
   ]
  },
  {
   "cell_type": "code",
   "execution_count": 15,
   "metadata": {
    "collapsed": false
   },
   "outputs": [
    {
     "data": {
      "text/plain": [
       "0      object\n",
       "1      object\n",
       "2       int64\n",
       "3       int64\n",
       "2+3     int64\n",
       "dtype: object"
      ]
     },
     "execution_count": 15,
     "metadata": {},
     "output_type": "execute_result"
    }
   ],
   "source": [
    "# looking at dataframes\n",
    "df.dtypes"
   ]
  },
  {
   "cell_type": "code",
   "execution_count": 16,
   "metadata": {
    "collapsed": false
   },
   "outputs": [
    {
     "data": {
      "text/plain": [
       "count     1000\n",
       "unique       3\n",
       "top         af\n",
       "freq       958\n",
       "Name: 0, dtype: object"
      ]
     },
     "execution_count": 16,
     "metadata": {},
     "output_type": "execute_result"
    }
   ],
   "source": [
    "# descriptive\n",
    "df['0'].describe()"
   ]
  },
  {
   "cell_type": "code",
   "execution_count": 17,
   "metadata": {
    "collapsed": false
   },
   "outputs": [
    {
     "name": "stdout",
     "output_type": "stream",
     "text": [
      "[u'aa' u'ab' u'af']\n",
      "3\n"
     ]
    }
   ],
   "source": [
    "# printing\n",
    "print df['0'].unique()\n",
    "print len(df['0'].unique())"
   ]
  },
  {
   "cell_type": "code",
   "execution_count": 18,
   "metadata": {
    "collapsed": false
   },
   "outputs": [
    {
     "data": {
      "text/plain": [
       "af    958\n",
       "ab     26\n",
       "aa     16\n",
       "dtype: int64"
      ]
     },
     "execution_count": 18,
     "metadata": {},
     "output_type": "execute_result"
    }
   ],
   "source": [
    "# distribution of values\n",
    "df['0'].value_counts()"
   ]
  },
  {
   "cell_type": "code",
   "execution_count": 19,
   "metadata": {
    "collapsed": false
   },
   "outputs": [
    {
     "data": {
      "text/plain": [
       "<matplotlib.axes._subplots.AxesSubplot at 0x104872390>"
      ]
     },
     "execution_count": 19,
     "metadata": {},
     "output_type": "execute_result"
    },
    {
     "data": {
      "image/png": "[encoded data removed]",
      "text/plain": [
       "<matplotlib.figure.Figure at 0x1047bfcd0>"
      ]
     },
     "metadata": {},
     "output_type": "display_data"
    }
   ],
   "source": [
    "# plotting\n",
    "%matplotlib inline\n",
    "df['0'].value_counts().plot(kind='bar')"
   ]
  },
  {
   "cell_type": "code",
   "execution_count": 20,
   "metadata": {
    "collapsed": false
   },
   "outputs": [
    {
     "data": {
      "text/html": [
       "<div>\n",
       "<table border=\"1\" class=\"dataframe\">\n",
       "  <thead>\n",
       "    <tr style=\"text-align: right;\">\n",
       "      <th></th>\n",
       "      <th>0</th>\n",
       "      <th>1</th>\n",
       "      <th>2</th>\n",
       "      <th>3</th>\n",
       "      <th>2+3</th>\n",
       "      <th>wordCount</th>\n",
       "    </tr>\n",
       "  </thead>\n",
       "  <tbody>\n",
       "    <tr>\n",
       "      <th>0</th>\n",
       "      <td>aa</td>\n",
       "      <td>Current_events</td>\n",
       "      <td>1</td>\n",
       "      <td>1</td>\n",
       "      <td>2</td>\n",
       "      <td>2</td>\n",
       "    </tr>\n",
       "    <tr>\n",
       "      <th>1</th>\n",
       "      <td>aa</td>\n",
       "      <td>Enqlizxsh_-_English</td>\n",
       "      <td>4</td>\n",
       "      <td>4</td>\n",
       "      <td>8</td>\n",
       "      <td>3</td>\n",
       "    </tr>\n",
       "    <tr>\n",
       "      <th>2</th>\n",
       "      <td>aa</td>\n",
       "      <td>Main_Page</td>\n",
       "      <td>4</td>\n",
       "      <td>4</td>\n",
       "      <td>8</td>\n",
       "      <td>2</td>\n",
       "    </tr>\n",
       "    <tr>\n",
       "      <th>3</th>\n",
       "      <td>aa</td>\n",
       "      <td>Qembo_1</td>\n",
       "      <td>1</td>\n",
       "      <td>1</td>\n",
       "      <td>2</td>\n",
       "      <td>2</td>\n",
       "    </tr>\n",
       "    <tr>\n",
       "      <th>4</th>\n",
       "      <td>aa</td>\n",
       "      <td>Special:Imagelist</td>\n",
       "      <td>1</td>\n",
       "      <td>1</td>\n",
       "      <td>2</td>\n",
       "      <td>1</td>\n",
       "    </tr>\n",
       "  </tbody>\n",
       "</table>\n",
       "</div>"
      ],
      "text/plain": [
       "    0                    1  2  3  2+3  wordCount\n",
       "0  aa       Current_events  1  1    2          2\n",
       "1  aa  Enqlizxsh_-_English  4  4    8          3\n",
       "2  aa            Main_Page  4  4    8          2\n",
       "3  aa              Qembo_1  1  1    2          2\n",
       "4  aa    Special:Imagelist  1  1    2          1"
      ]
     },
     "execution_count": 20,
     "metadata": {},
     "output_type": "execute_result"
    }
   ],
   "source": [
    "# create more complicated functions\n",
    "def wordCount(st):\n",
    "    return len(st.split(\"_\"))\n",
    "\n",
    "\n",
    "# <3 apply\n",
    "df['wordCount'] = df['1'].apply(wordCount)\n",
    "df.head()"
   ]
  },
  {
   "cell_type": "markdown",
   "metadata": {},
   "source": [
    "df['wordCount'].value_counts()"
   ]
  },
  {
   "cell_type": "code",
   "execution_count": 22,
   "metadata": {
    "collapsed": false
   },
   "outputs": [],
   "source": [
    "# of course...you could do this too\n",
    "df['wordcount2'] = df['1'].str.count('_')+1"
   ]
  },
  {
   "cell_type": "code",
   "execution_count": 14,
   "metadata": {
    "collapsed": false
   },
   "outputs": [
    {
     "data": {
      "text/html": [
       "<div>\n",
       "<table border=\"1\" class=\"dataframe\">\n",
       "  <thead>\n",
       "    <tr style=\"text-align: right;\">\n",
       "      <th></th>\n",
       "      <th>index</th>\n",
       "      <th>0</th>\n",
       "      <th>1</th>\n",
       "      <th>2</th>\n",
       "      <th>3</th>\n",
       "      <th>wordCount</th>\n",
       "      <th>wordcount2</th>\n",
       "    </tr>\n",
       "  </thead>\n",
       "  <tbody>\n",
       "    <tr>\n",
       "      <th>0</th>\n",
       "      <td>0</td>\n",
       "      <td>aa</td>\n",
       "      <td>Current_events</td>\n",
       "      <td>1</td>\n",
       "      <td>1</td>\n",
       "      <td>2</td>\n",
       "      <td>2</td>\n",
       "    </tr>\n",
       "    <tr>\n",
       "      <th>1</th>\n",
       "      <td>1</td>\n",
       "      <td>aa</td>\n",
       "      <td>Enqlizxsh_-_English</td>\n",
       "      <td>4</td>\n",
       "      <td>4</td>\n",
       "      <td>3</td>\n",
       "      <td>3</td>\n",
       "    </tr>\n",
       "    <tr>\n",
       "      <th>2</th>\n",
       "      <td>2</td>\n",
       "      <td>aa</td>\n",
       "      <td>Main_Page</td>\n",
       "      <td>4</td>\n",
       "      <td>4</td>\n",
       "      <td>2</td>\n",
       "      <td>2</td>\n",
       "    </tr>\n",
       "    <tr>\n",
       "      <th>3</th>\n",
       "      <td>3</td>\n",
       "      <td>aa</td>\n",
       "      <td>Qembo_1</td>\n",
       "      <td>1</td>\n",
       "      <td>1</td>\n",
       "      <td>2</td>\n",
       "      <td>2</td>\n",
       "    </tr>\n",
       "    <tr>\n",
       "      <th>4</th>\n",
       "      <td>4</td>\n",
       "      <td>aa</td>\n",
       "      <td>Special:Imagelist</td>\n",
       "      <td>1</td>\n",
       "      <td>1</td>\n",
       "      <td>1</td>\n",
       "      <td>1</td>\n",
       "    </tr>\n",
       "  </tbody>\n",
       "</table>\n",
       "</div>"
      ],
      "text/plain": [
       "   index   0                    1  2  3  wordCount  wordcount2\n",
       "0      0  aa       Current_events  1  1          2           2\n",
       "1      1  aa  Enqlizxsh_-_English  4  4          3           3\n",
       "2      2  aa            Main_Page  4  4          2           2\n",
       "3      3  aa              Qembo_1  1  1          2           2\n",
       "4      4  aa    Special:Imagelist  1  1          1           1"
      ]
     },
     "execution_count": 14,
     "metadata": {},
     "output_type": "execute_result"
    }
   ],
   "source": [
    "df.head()"
   ]
  },
  {
   "cell_type": "markdown",
   "metadata": {},
   "source": [
    "SWITCH TO THE REAL CODE\n",
    "===================="
   ]
  },
  {
   "cell_type": "code",
   "execution_count": null,
   "metadata": {
    "collapsed": true
   },
   "outputs": [],
   "source": []
  }
 ],
 "metadata": {
  "kernelspec": {
   "display_name": "Python 2",
   "language": "python",
   "name": "python2"
  },
  "language_info": {
   "codemirror_mode": {
    "name": "ipython",
    "version": 2
   },
   "file_extension": ".py",
   "mimetype": "text/x-python",
   "name": "python",
   "nbconvert_exporter": "python",
   "pygments_lexer": "ipython2",
   "version": "2.7.9"
  }
 },
 "nbformat": 4,
 "nbformat_minor": 0
}
